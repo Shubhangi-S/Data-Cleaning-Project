{
 "cells": [
  {
   "cell_type": "code",
   "execution_count": 1,
   "metadata": {},
   "outputs": [
    {
     "name": "stdout",
     "output_type": "stream",
     "text": [
      "                                                     App             Category  \\\n",
      "0         Photo Editor & Candy Camera & Grid & ScrapBook       ART_AND_DESIGN   \n",
      "1                                    Coloring book moana       ART_AND_DESIGN   \n",
      "2      U Launcher Lite – FREE Live Cool Themes, Hide ...       ART_AND_DESIGN   \n",
      "3                                  Sketch - Draw & Paint       ART_AND_DESIGN   \n",
      "4                  Pixel Draw - Number Art Coloring Book       ART_AND_DESIGN   \n",
      "...                                                  ...                  ...   \n",
      "10836                                   Sya9a Maroc - FR               FAMILY   \n",
      "10837                   Fr. Mike Schmitz Audio Teachings               FAMILY   \n",
      "10838                             Parkinson Exercices FR              MEDICAL   \n",
      "10839                      The SCP Foundation DB fr nn5n  BOOKS_AND_REFERENCE   \n",
      "10840      iHoroscope - 2018 Daily Horoscope & Astrology            LIFESTYLE   \n",
      "\n",
      "       Rating  Reviews                Size     Installs  Type Price  \\\n",
      "0         4.1      159                 19M      10,000+  Free     0   \n",
      "1         3.9      967                 14M     500,000+  Free     0   \n",
      "2         4.7    87510                8.7M   5,000,000+  Free     0   \n",
      "3         4.5   215644                 25M  50,000,000+  Free     0   \n",
      "4         4.3      967                2.8M     100,000+  Free     0   \n",
      "...       ...      ...                 ...          ...   ...   ...   \n",
      "10836     4.5       38                 53M       5,000+  Free     0   \n",
      "10837     5.0        4                3.6M         100+  Free     0   \n",
      "10838     NaN        3                9.5M       1,000+  Free     0   \n",
      "10839     4.5      114  Varies with device       1,000+  Free     0   \n",
      "10840     4.5   398307                 19M  10,000,000+  Free     0   \n",
      "\n",
      "      Content Rating                     Genres Last Updated  \\\n",
      "0           Everyone               Art & Design     7-Jan-18   \n",
      "1           Everyone  Art & Design;Pretend Play    15-Jan-18   \n",
      "2           Everyone               Art & Design     1-Aug-18   \n",
      "3               Teen               Art & Design     8-Jun-18   \n",
      "4           Everyone    Art & Design;Creativity    20-Jun-18   \n",
      "...              ...                        ...          ...   \n",
      "10836       Everyone                  Education    25-Jul-17   \n",
      "10837       Everyone                  Education     6-Jul-18   \n",
      "10838       Everyone                    Medical    20-Jan-17   \n",
      "10839     Mature 17+          Books & Reference    19-Jan-15   \n",
      "10840       Everyone                  Lifestyle    25-Jul-18   \n",
      "\n",
      "              Current Ver         Android Ver  \n",
      "0                   1.0.0        4.0.3 and up  \n",
      "1                   2.0.0        4.0.3 and up  \n",
      "2                   1.2.4        4.0.3 and up  \n",
      "3      Varies with device          4.2 and up  \n",
      "4                     1.1          4.4 and up  \n",
      "...                   ...                 ...  \n",
      "10836                1.48          4.1 and up  \n",
      "10837                   1          4.1 and up  \n",
      "10838                   1          2.2 and up  \n",
      "10839  Varies with device  Varies with device  \n",
      "10840  Varies with device  Varies with device  \n",
      "\n",
      "[10841 rows x 13 columns]\n",
      "Wall time: 1.06 s\n"
     ]
    }
   ],
   "source": [
    "%%time\n",
    "#data cleaning project\n",
    "#manually made changes to one row in MS Excel\n",
    "import pandas as pd\n",
    "import numpy as np\n",
    "df = pd.read_csv(\"C:/Users/shubh/googleplaystore.csv\")\n",
    "print(df)\n",
    "df.head()\n",
    "#creating copy of source dataframe\n",
    "dfcopy = df "
   ]
  },
  {
   "cell_type": "code",
   "execution_count": 2,
   "metadata": {},
   "outputs": [
    {
     "name": "stdout",
     "output_type": "stream",
     "text": [
      "Application        10841\n",
      "Category           10841\n",
      "Rating              9367\n",
      "Reviews            10841\n",
      "Size               10841\n",
      "Downloads          10841\n",
      "Type               10840\n",
      "Price              10841\n",
      "Content Rating     10841\n",
      "Genres             10840\n",
      "Last Updated       10841\n",
      "Current Version    10833\n",
      "Android Version    10839\n",
      "dtype: int64\n",
      "Wall time: 9.97 ms\n"
     ]
    }
   ],
   "source": [
    "%%time\n",
    "#changed the names of columns for clarity\n",
    "#df is updated, no need to save df into another df1\n",
    "df.columns = ['Application', 'Category','Rating','Reviews','Size','Downloads','Type','Price','Content Rating','Genres','Last Updated','Current Version','Android Version']\n",
    "df.head()\n",
    "print(df.count())"
   ]
  },
  {
   "cell_type": "code",
   "execution_count": 3,
   "metadata": {},
   "outputs": [
    {
     "name": "stdout",
     "output_type": "stream",
     "text": [
      "                                             Application             Category  \\\n",
      "0         Photo Editor & Candy Camera & Grid & ScrapBook       ART_AND_DESIGN   \n",
      "1                                    Coloring book moana       ART_AND_DESIGN   \n",
      "2      U Launcher Lite – FREE Live Cool Themes, Hide ...       ART_AND_DESIGN   \n",
      "3                                  Sketch - Draw & Paint       ART_AND_DESIGN   \n",
      "4                  Pixel Draw - Number Art Coloring Book       ART_AND_DESIGN   \n",
      "...                                                  ...                  ...   \n",
      "10836                                   Sya9a Maroc - FR               FAMILY   \n",
      "10837                   Fr. Mike Schmitz Audio Teachings               FAMILY   \n",
      "10838                             Parkinson Exercices FR              MEDICAL   \n",
      "10839                      The SCP Foundation DB fr nn5n  BOOKS_AND_REFERENCE   \n",
      "10840      iHoroscope - 2018 Daily Horoscope & Astrology            LIFESTYLE   \n",
      "\n",
      "       Rating  Reviews                Size    Downloads  Type Price  \\\n",
      "0         4.1      159                 19M      10,000+  Free     0   \n",
      "1         3.9      967                 14M     500,000+  Free     0   \n",
      "2         4.7    87510                8.7M   5,000,000+  Free     0   \n",
      "3         4.5   215644                 25M  50,000,000+  Free     0   \n",
      "4         4.3      967                2.8M     100,000+  Free     0   \n",
      "...       ...      ...                 ...          ...   ...   ...   \n",
      "10836     4.5       38                 53M       5,000+  Free     0   \n",
      "10837     5.0        4                3.6M         100+  Free     0   \n",
      "10838     NaN        3                9.5M       1,000+  Free     0   \n",
      "10839     4.5      114  Varies with device       1,000+  Free     0   \n",
      "10840     4.5   398307                 19M  10,000,000+  Free     0   \n",
      "\n",
      "      Content Rating                     Genres Last Updated  \\\n",
      "0           Everyone               Art & Design     7-Jan-18   \n",
      "1           Everyone  Art & Design;Pretend Play    15-Jan-18   \n",
      "2           Everyone               Art & Design     1-Aug-18   \n",
      "3               Teen               Art & Design     8-Jun-18   \n",
      "4           Everyone    Art & Design;Creativity    20-Jun-18   \n",
      "...              ...                        ...          ...   \n",
      "10836       Everyone                  Education    25-Jul-17   \n",
      "10837       Everyone                  Education     6-Jul-18   \n",
      "10838       Everyone                    Medical    20-Jan-17   \n",
      "10839     Mature 17+          Books & Reference    19-Jan-15   \n",
      "10840       Everyone                  Lifestyle    25-Jul-18   \n",
      "\n",
      "          Current Version     Android Version  \n",
      "0                   1.0.0        4.0.3 and up  \n",
      "1                   2.0.0        4.0.3 and up  \n",
      "2                   1.2.4        4.0.3 and up  \n",
      "3      Varies with device          4.2 and up  \n",
      "4                     1.1          4.4 and up  \n",
      "...                   ...                 ...  \n",
      "10836                1.48          4.1 and up  \n",
      "10837                   1          4.1 and up  \n",
      "10838                   1          2.2 and up  \n",
      "10839  Varies with device  Varies with device  \n",
      "10840  Varies with device  Varies with device  \n",
      "\n",
      "[9660 rows x 13 columns]\n",
      "Application        9660\n",
      "Category           9660\n",
      "Rating             8197\n",
      "Reviews            9660\n",
      "Size               9660\n",
      "Downloads          9660\n",
      "Type               9659\n",
      "Price              9660\n",
      "Content Rating     9660\n",
      "Genres             9659\n",
      "Last Updated       9660\n",
      "Current Version    9652\n",
      "Android Version    9658\n",
      "dtype: int64\n",
      "Wall time: 39.8 ms\n"
     ]
    }
   ],
   "source": [
    "%%time\n",
    "#deleting duplicate application names\n",
    "df = df.drop_duplicates(subset='Application', keep='first')\n",
    "print(df)\n",
    "print(df.count())"
   ]
  },
  {
   "cell_type": "code",
   "execution_count": 4,
   "metadata": {},
   "outputs": [
    {
     "name": "stdout",
     "output_type": "stream",
     "text": [
      "0           Photo editor & candy camera & grid & scrapbook\n",
      "1                                      Coloring book moana\n",
      "2        U launcher lite – free live cool themes, hide ...\n",
      "3                                    Sketch - draw & paint\n",
      "4                    Pixel draw - number art coloring book\n",
      "                               ...                        \n",
      "10836                                     Sya9a maroc - fr\n",
      "10837                     Fr. mike schmitz audio teachings\n",
      "10838                               Parkinson exercices fr\n",
      "10839                        The scp foundation db fr nn5n\n",
      "10840        Ihoroscope - 2018 daily horoscope & astrology\n",
      "Name: Application, Length: 9660, dtype: object\n",
      "Wall time: 14.1 ms\n"
     ]
    },
    {
     "name": "stderr",
     "output_type": "stream",
     "text": [
      "C:\\Users\\shubh\\Anaconda3\\lib\\site-packages\\ipykernel_launcher.py:3: SettingWithCopyWarning: \n",
      "A value is trying to be set on a copy of a slice from a DataFrame.\n",
      "Try using .loc[row_indexer,col_indexer] = value instead\n",
      "\n",
      "See the caveats in the documentation: https://pandas.pydata.org/pandas-docs/stable/user_guide/indexing.html#returning-a-view-versus-a-copy\n",
      "  This is separate from the ipykernel package so we can avoid doing imports until\n"
     ]
    }
   ],
   "source": [
    "%%time\n",
    "#capitalize first letter of data values in column Application\n",
    "#we can also use str.title()\n",
    "df['Application'] = df['Application'].str.capitalize()\n",
    "print(df[\"Application\"])"
   ]
  },
  {
   "cell_type": "code",
   "execution_count": 5,
   "metadata": {},
   "outputs": [
    {
     "name": "stdout",
     "output_type": "stream",
     "text": [
      "0           Photo editor & candy camera & grid & scrapbook\n",
      "1                                      Coloring book moana\n",
      "2        U launcher lite – free live cool themes, hide ...\n",
      "3                                    Sketch - draw & paint\n",
      "4                    Pixel draw - number art coloring book\n",
      "                               ...                        \n",
      "10836                                     Sya9a maroc - fr\n",
      "10837                     Fr. mike schmitz audio teachings\n",
      "10838                               Parkinson exercices fr\n",
      "10839                        The scp foundation db fr nn5n\n",
      "10840        Ihoroscope - 2018 daily horoscope & astrology\n",
      "Name: Application, Length: 9660, dtype: object\n",
      "0             ART_AND_DESIGN\n",
      "1             ART_AND_DESIGN\n",
      "2             ART_AND_DESIGN\n",
      "3             ART_AND_DESIGN\n",
      "4             ART_AND_DESIGN\n",
      "                ...         \n",
      "10836                 FAMILY\n",
      "10837                 FAMILY\n",
      "10838                MEDICAL\n",
      "10839    BOOKS_AND_REFERENCE\n",
      "10840              LIFESTYLE\n",
      "Name: Category, Length: 9660, dtype: object\n",
      "0            10,000+\n",
      "1           500,000+\n",
      "2         5,000,000+\n",
      "3        50,000,000+\n",
      "4           100,000+\n",
      "            ...     \n",
      "10836         5,000+\n",
      "10837           100+\n",
      "10838         1,000+\n",
      "10839         1,000+\n",
      "10840    10,000,000+\n",
      "Name: Downloads, Length: 9660, dtype: object\n",
      "0        Free\n",
      "1        Free\n",
      "2        Free\n",
      "3        Free\n",
      "4        Free\n",
      "         ... \n",
      "10836    Free\n",
      "10837    Free\n",
      "10838    Free\n",
      "10839    Free\n",
      "10840    Free\n",
      "Name: Type, Length: 9660, dtype: object\n",
      "0          Everyone\n",
      "1          Everyone\n",
      "2          Everyone\n",
      "3              Teen\n",
      "4          Everyone\n",
      "            ...    \n",
      "10836      Everyone\n",
      "10837      Everyone\n",
      "10838      Everyone\n",
      "10839    Mature 17+\n",
      "10840      Everyone\n",
      "Name: Content Rating, Length: 9660, dtype: object\n",
      "0                     Art & Design\n",
      "1        Art & Design;Pretend Play\n",
      "2                     Art & Design\n",
      "3                     Art & Design\n",
      "4          Art & Design;Creativity\n",
      "                   ...            \n",
      "10836                    Education\n",
      "10837                    Education\n",
      "10838                      Medical\n",
      "10839            Books & Reference\n",
      "10840                    Lifestyle\n",
      "Name: Genres, Length: 9660, dtype: object\n",
      "0                     1.0.0\n",
      "1                     2.0.0\n",
      "2                     1.2.4\n",
      "3        Varies with device\n",
      "4                       1.1\n",
      "                ...        \n",
      "10836                  1.48\n",
      "10837                     1\n",
      "10838                     1\n",
      "10839    Varies with device\n",
      "10840    Varies with device\n",
      "Name: Current Version, Length: 9660, dtype: object\n",
      "0              4.0.3 and up\n",
      "1              4.0.3 and up\n",
      "2              4.0.3 and up\n",
      "3                4.2 and up\n",
      "4                4.4 and up\n",
      "                ...        \n",
      "10836            4.1 and up\n",
      "10837            4.1 and up\n",
      "10838            2.2 and up\n",
      "10839    Varies with device\n",
      "10840    Varies with device\n",
      "Name: Android Version, Length: 9660, dtype: object\n",
      "Wall time: 63.8 ms\n"
     ]
    },
    {
     "name": "stderr",
     "output_type": "stream",
     "text": [
      "C:\\Users\\shubh\\Anaconda3\\lib\\site-packages\\ipykernel_launcher.py:2: SettingWithCopyWarning: \n",
      "A value is trying to be set on a copy of a slice from a DataFrame.\n",
      "Try using .loc[row_indexer,col_indexer] = value instead\n",
      "\n",
      "See the caveats in the documentation: https://pandas.pydata.org/pandas-docs/stable/user_guide/indexing.html#returning-a-view-versus-a-copy\n",
      "  \n",
      "C:\\Users\\shubh\\Anaconda3\\lib\\site-packages\\ipykernel_launcher.py:5: SettingWithCopyWarning: \n",
      "A value is trying to be set on a copy of a slice from a DataFrame.\n",
      "Try using .loc[row_indexer,col_indexer] = value instead\n",
      "\n",
      "See the caveats in the documentation: https://pandas.pydata.org/pandas-docs/stable/user_guide/indexing.html#returning-a-view-versus-a-copy\n",
      "  \"\"\"\n",
      "C:\\Users\\shubh\\Anaconda3\\lib\\site-packages\\ipykernel_launcher.py:8: SettingWithCopyWarning: \n",
      "A value is trying to be set on a copy of a slice from a DataFrame.\n",
      "Try using .loc[row_indexer,col_indexer] = value instead\n",
      "\n",
      "See the caveats in the documentation: https://pandas.pydata.org/pandas-docs/stable/user_guide/indexing.html#returning-a-view-versus-a-copy\n",
      "  \n",
      "C:\\Users\\shubh\\Anaconda3\\lib\\site-packages\\ipykernel_launcher.py:11: SettingWithCopyWarning: \n",
      "A value is trying to be set on a copy of a slice from a DataFrame.\n",
      "Try using .loc[row_indexer,col_indexer] = value instead\n",
      "\n",
      "See the caveats in the documentation: https://pandas.pydata.org/pandas-docs/stable/user_guide/indexing.html#returning-a-view-versus-a-copy\n",
      "  # This is added back by InteractiveShellApp.init_path()\n",
      "C:\\Users\\shubh\\Anaconda3\\lib\\site-packages\\ipykernel_launcher.py:14: SettingWithCopyWarning: \n",
      "A value is trying to be set on a copy of a slice from a DataFrame.\n",
      "Try using .loc[row_indexer,col_indexer] = value instead\n",
      "\n",
      "See the caveats in the documentation: https://pandas.pydata.org/pandas-docs/stable/user_guide/indexing.html#returning-a-view-versus-a-copy\n",
      "  \n",
      "C:\\Users\\shubh\\Anaconda3\\lib\\site-packages\\ipykernel_launcher.py:17: SettingWithCopyWarning: \n",
      "A value is trying to be set on a copy of a slice from a DataFrame.\n",
      "Try using .loc[row_indexer,col_indexer] = value instead\n",
      "\n",
      "See the caveats in the documentation: https://pandas.pydata.org/pandas-docs/stable/user_guide/indexing.html#returning-a-view-versus-a-copy\n",
      "C:\\Users\\shubh\\Anaconda3\\lib\\site-packages\\ipykernel_launcher.py:20: SettingWithCopyWarning: \n",
      "A value is trying to be set on a copy of a slice from a DataFrame.\n",
      "Try using .loc[row_indexer,col_indexer] = value instead\n",
      "\n",
      "See the caveats in the documentation: https://pandas.pydata.org/pandas-docs/stable/user_guide/indexing.html#returning-a-view-versus-a-copy\n",
      "C:\\Users\\shubh\\Anaconda3\\lib\\site-packages\\ipykernel_launcher.py:23: SettingWithCopyWarning: \n",
      "A value is trying to be set on a copy of a slice from a DataFrame.\n",
      "Try using .loc[row_indexer,col_indexer] = value instead\n",
      "\n",
      "See the caveats in the documentation: https://pandas.pydata.org/pandas-docs/stable/user_guide/indexing.html#returning-a-view-versus-a-copy\n"
     ]
    }
   ],
   "source": [
    "%%time\n",
    "#trim leading and trailing spaces off all qualitative columns to reduce memory allocated\n",
    "df['Application'] = df['Application'].str.strip()\n",
    "print (df[\"Application\"])\n",
    "\n",
    "df['Category'] = df['Category'].str.strip()\n",
    "print (df[\"Category\"])\n",
    "\n",
    "df['Downloads'] = df['Downloads'].str.strip()\n",
    "print (df[\"Downloads\"])\n",
    "\n",
    "df['Type'] = df['Type'].str.strip()\n",
    "print (df[\"Type\"])\n",
    "\n",
    "df['Content Rating'] = df['Content Rating'].str.strip()\n",
    "print (df[\"Content Rating\"])\n",
    "\n",
    "df['Genres'] = df['Genres'].str.strip()\n",
    "print (df[\"Genres\"])\n",
    "\n",
    "df['Current Version'] = df['Current Version'].str.strip()\n",
    "print (df[\"Current Version\"])\n",
    "\n",
    "df['Android Version'] = df['Android Version'].str.strip()\n",
    "print (df[\"Android Version\"])"
   ]
  },
  {
   "cell_type": "code",
   "execution_count": 6,
   "metadata": {},
   "outputs": [
    {
     "name": "stdout",
     "output_type": "stream",
     "text": [
      "Wall time: 0 ns\n"
     ]
    },
    {
     "data": {
      "text/html": [
       "<div>\n",
       "<style scoped>\n",
       "    .dataframe tbody tr th:only-of-type {\n",
       "        vertical-align: middle;\n",
       "    }\n",
       "\n",
       "    .dataframe tbody tr th {\n",
       "        vertical-align: top;\n",
       "    }\n",
       "\n",
       "    .dataframe thead th {\n",
       "        text-align: right;\n",
       "    }\n",
       "</style>\n",
       "<table border=\"1\" class=\"dataframe\">\n",
       "  <thead>\n",
       "    <tr style=\"text-align: right;\">\n",
       "      <th></th>\n",
       "      <th>Application</th>\n",
       "      <th>Category</th>\n",
       "      <th>Rating</th>\n",
       "      <th>Reviews</th>\n",
       "      <th>Size</th>\n",
       "      <th>Downloads</th>\n",
       "      <th>Type</th>\n",
       "      <th>Price</th>\n",
       "      <th>Content Rating</th>\n",
       "      <th>Genres</th>\n",
       "      <th>Last Updated</th>\n",
       "      <th>Current Version</th>\n",
       "      <th>Android Version</th>\n",
       "    </tr>\n",
       "  </thead>\n",
       "  <tbody>\n",
       "    <tr>\n",
       "      <th>0</th>\n",
       "      <td>Photo editor &amp; candy camera &amp; grid &amp; scrapbook</td>\n",
       "      <td>ART_AND_DESIGN</td>\n",
       "      <td>4.1</td>\n",
       "      <td>159</td>\n",
       "      <td>19M</td>\n",
       "      <td>10,000+</td>\n",
       "      <td>Free</td>\n",
       "      <td>0</td>\n",
       "      <td>Everyone</td>\n",
       "      <td>Art &amp; Design</td>\n",
       "      <td>7-Jan-18</td>\n",
       "      <td>1.0.0</td>\n",
       "      <td>4.0.3 and up</td>\n",
       "    </tr>\n",
       "    <tr>\n",
       "      <th>1</th>\n",
       "      <td>Coloring book moana</td>\n",
       "      <td>ART_AND_DESIGN</td>\n",
       "      <td>3.9</td>\n",
       "      <td>967</td>\n",
       "      <td>14M</td>\n",
       "      <td>500,000+</td>\n",
       "      <td>Free</td>\n",
       "      <td>0</td>\n",
       "      <td>Everyone</td>\n",
       "      <td>Art &amp; Design;Pretend Play</td>\n",
       "      <td>15-Jan-18</td>\n",
       "      <td>2.0.0</td>\n",
       "      <td>4.0.3 and up</td>\n",
       "    </tr>\n",
       "    <tr>\n",
       "      <th>2</th>\n",
       "      <td>U launcher lite – free live cool themes, hide ...</td>\n",
       "      <td>ART_AND_DESIGN</td>\n",
       "      <td>4.7</td>\n",
       "      <td>87510</td>\n",
       "      <td>8.7M</td>\n",
       "      <td>5,000,000+</td>\n",
       "      <td>Free</td>\n",
       "      <td>0</td>\n",
       "      <td>Everyone</td>\n",
       "      <td>Art &amp; Design</td>\n",
       "      <td>1-Aug-18</td>\n",
       "      <td>1.2.4</td>\n",
       "      <td>4.0.3 and up</td>\n",
       "    </tr>\n",
       "    <tr>\n",
       "      <th>3</th>\n",
       "      <td>Sketch - draw &amp; paint</td>\n",
       "      <td>ART_AND_DESIGN</td>\n",
       "      <td>4.5</td>\n",
       "      <td>215644</td>\n",
       "      <td>25M</td>\n",
       "      <td>50,000,000+</td>\n",
       "      <td>Free</td>\n",
       "      <td>0</td>\n",
       "      <td>Teen</td>\n",
       "      <td>Art &amp; Design</td>\n",
       "      <td>8-Jun-18</td>\n",
       "      <td>Varies with device</td>\n",
       "      <td>4.2 and up</td>\n",
       "    </tr>\n",
       "    <tr>\n",
       "      <th>4</th>\n",
       "      <td>Pixel draw - number art coloring book</td>\n",
       "      <td>ART_AND_DESIGN</td>\n",
       "      <td>4.3</td>\n",
       "      <td>967</td>\n",
       "      <td>2.8M</td>\n",
       "      <td>100,000+</td>\n",
       "      <td>Free</td>\n",
       "      <td>0</td>\n",
       "      <td>Everyone</td>\n",
       "      <td>Art &amp; Design;Creativity</td>\n",
       "      <td>20-Jun-18</td>\n",
       "      <td>1.1</td>\n",
       "      <td>4.4 and up</td>\n",
       "    </tr>\n",
       "    <tr>\n",
       "      <th>...</th>\n",
       "      <td>...</td>\n",
       "      <td>...</td>\n",
       "      <td>...</td>\n",
       "      <td>...</td>\n",
       "      <td>...</td>\n",
       "      <td>...</td>\n",
       "      <td>...</td>\n",
       "      <td>...</td>\n",
       "      <td>...</td>\n",
       "      <td>...</td>\n",
       "      <td>...</td>\n",
       "      <td>...</td>\n",
       "      <td>...</td>\n",
       "    </tr>\n",
       "    <tr>\n",
       "      <th>10836</th>\n",
       "      <td>Sya9a maroc - fr</td>\n",
       "      <td>FAMILY</td>\n",
       "      <td>4.5</td>\n",
       "      <td>38</td>\n",
       "      <td>53M</td>\n",
       "      <td>5,000+</td>\n",
       "      <td>Free</td>\n",
       "      <td>0</td>\n",
       "      <td>Everyone</td>\n",
       "      <td>Education</td>\n",
       "      <td>25-Jul-17</td>\n",
       "      <td>1.48</td>\n",
       "      <td>4.1 and up</td>\n",
       "    </tr>\n",
       "    <tr>\n",
       "      <th>10837</th>\n",
       "      <td>Fr. mike schmitz audio teachings</td>\n",
       "      <td>FAMILY</td>\n",
       "      <td>5.0</td>\n",
       "      <td>4</td>\n",
       "      <td>3.6M</td>\n",
       "      <td>100+</td>\n",
       "      <td>Free</td>\n",
       "      <td>0</td>\n",
       "      <td>Everyone</td>\n",
       "      <td>Education</td>\n",
       "      <td>6-Jul-18</td>\n",
       "      <td>1</td>\n",
       "      <td>4.1 and up</td>\n",
       "    </tr>\n",
       "    <tr>\n",
       "      <th>10838</th>\n",
       "      <td>Parkinson exercices fr</td>\n",
       "      <td>MEDICAL</td>\n",
       "      <td>NaN</td>\n",
       "      <td>3</td>\n",
       "      <td>9.5M</td>\n",
       "      <td>1,000+</td>\n",
       "      <td>Free</td>\n",
       "      <td>0</td>\n",
       "      <td>Everyone</td>\n",
       "      <td>Medical</td>\n",
       "      <td>20-Jan-17</td>\n",
       "      <td>1</td>\n",
       "      <td>2.2 and up</td>\n",
       "    </tr>\n",
       "    <tr>\n",
       "      <th>10839</th>\n",
       "      <td>The scp foundation db fr nn5n</td>\n",
       "      <td>BOOKS_AND_REFERENCE</td>\n",
       "      <td>4.5</td>\n",
       "      <td>114</td>\n",
       "      <td>Varies with device</td>\n",
       "      <td>1,000+</td>\n",
       "      <td>Free</td>\n",
       "      <td>0</td>\n",
       "      <td>Mature 17+</td>\n",
       "      <td>Books &amp; Reference</td>\n",
       "      <td>19-Jan-15</td>\n",
       "      <td>Varies with device</td>\n",
       "      <td>Varies with device</td>\n",
       "    </tr>\n",
       "    <tr>\n",
       "      <th>10840</th>\n",
       "      <td>Ihoroscope - 2018 daily horoscope &amp; astrology</td>\n",
       "      <td>LIFESTYLE</td>\n",
       "      <td>4.5</td>\n",
       "      <td>398307</td>\n",
       "      <td>19M</td>\n",
       "      <td>10,000,000+</td>\n",
       "      <td>Free</td>\n",
       "      <td>0</td>\n",
       "      <td>Everyone</td>\n",
       "      <td>Lifestyle</td>\n",
       "      <td>25-Jul-18</td>\n",
       "      <td>Varies with device</td>\n",
       "      <td>Varies with device</td>\n",
       "    </tr>\n",
       "  </tbody>\n",
       "</table>\n",
       "<p>9660 rows × 13 columns</p>\n",
       "</div>"
      ],
      "text/plain": [
       "                                             Application             Category  \\\n",
       "0         Photo editor & candy camera & grid & scrapbook       ART_AND_DESIGN   \n",
       "1                                    Coloring book moana       ART_AND_DESIGN   \n",
       "2      U launcher lite – free live cool themes, hide ...       ART_AND_DESIGN   \n",
       "3                                  Sketch - draw & paint       ART_AND_DESIGN   \n",
       "4                  Pixel draw - number art coloring book       ART_AND_DESIGN   \n",
       "...                                                  ...                  ...   \n",
       "10836                                   Sya9a maroc - fr               FAMILY   \n",
       "10837                   Fr. mike schmitz audio teachings               FAMILY   \n",
       "10838                             Parkinson exercices fr              MEDICAL   \n",
       "10839                      The scp foundation db fr nn5n  BOOKS_AND_REFERENCE   \n",
       "10840      Ihoroscope - 2018 daily horoscope & astrology            LIFESTYLE   \n",
       "\n",
       "       Rating  Reviews                Size    Downloads  Type Price  \\\n",
       "0         4.1      159                 19M      10,000+  Free     0   \n",
       "1         3.9      967                 14M     500,000+  Free     0   \n",
       "2         4.7    87510                8.7M   5,000,000+  Free     0   \n",
       "3         4.5   215644                 25M  50,000,000+  Free     0   \n",
       "4         4.3      967                2.8M     100,000+  Free     0   \n",
       "...       ...      ...                 ...          ...   ...   ...   \n",
       "10836     4.5       38                 53M       5,000+  Free     0   \n",
       "10837     5.0        4                3.6M         100+  Free     0   \n",
       "10838     NaN        3                9.5M       1,000+  Free     0   \n",
       "10839     4.5      114  Varies with device       1,000+  Free     0   \n",
       "10840     4.5   398307                 19M  10,000,000+  Free     0   \n",
       "\n",
       "      Content Rating                     Genres Last Updated  \\\n",
       "0           Everyone               Art & Design     7-Jan-18   \n",
       "1           Everyone  Art & Design;Pretend Play    15-Jan-18   \n",
       "2           Everyone               Art & Design     1-Aug-18   \n",
       "3               Teen               Art & Design     8-Jun-18   \n",
       "4           Everyone    Art & Design;Creativity    20-Jun-18   \n",
       "...              ...                        ...          ...   \n",
       "10836       Everyone                  Education    25-Jul-17   \n",
       "10837       Everyone                  Education     6-Jul-18   \n",
       "10838       Everyone                    Medical    20-Jan-17   \n",
       "10839     Mature 17+          Books & Reference    19-Jan-15   \n",
       "10840       Everyone                  Lifestyle    25-Jul-18   \n",
       "\n",
       "          Current Version     Android Version  \n",
       "0                   1.0.0        4.0.3 and up  \n",
       "1                   2.0.0        4.0.3 and up  \n",
       "2                   1.2.4        4.0.3 and up  \n",
       "3      Varies with device          4.2 and up  \n",
       "4                     1.1          4.4 and up  \n",
       "...                   ...                 ...  \n",
       "10836                1.48          4.1 and up  \n",
       "10837                   1          4.1 and up  \n",
       "10838                   1          2.2 and up  \n",
       "10839  Varies with device  Varies with device  \n",
       "10840  Varies with device  Varies with device  \n",
       "\n",
       "[9660 rows x 13 columns]"
      ]
     },
     "execution_count": 6,
     "metadata": {},
     "output_type": "execute_result"
    }
   ],
   "source": [
    "%%time\n",
    "#sanity check df\n",
    "df"
   ]
  },
  {
   "cell_type": "code",
   "execution_count": 7,
   "metadata": {},
   "outputs": [
    {
     "name": "stdout",
     "output_type": "stream",
     "text": [
      "Wall time: 5.35 ms\n"
     ]
    },
    {
     "name": "stderr",
     "output_type": "stream",
     "text": [
      "C:\\Users\\shubh\\Anaconda3\\lib\\site-packages\\ipykernel_launcher.py:10: SettingWithCopyWarning: \n",
      "A value is trying to be set on a copy of a slice from a DataFrame.\n",
      "Try using .loc[row_indexer,col_indexer] = value instead\n",
      "\n",
      "See the caveats in the documentation: https://pandas.pydata.org/pandas-docs/stable/user_guide/indexing.html#returning-a-view-versus-a-copy\n",
      "  # Remove the CWD from sys.path while we load stuff.\n"
     ]
    }
   ],
   "source": [
    "%%time\n",
    "# removing underscores from column Category\n",
    "df[\"Category\"]\n",
    "categorylist = list(df[\"Category\"])\n",
    "#print(categorylist)\n",
    "catlist2 = []\n",
    "for i in categorylist:\n",
    "    catlist2.append(i.replace(\"_\",\" \"))\n",
    "#print(catlist2)\n",
    "#convert cleaned list to df column\n",
    "df[\"Category\"] = catlist2\n",
    "#print(df[\"CategoryCleaned\"])"
   ]
  },
  {
   "cell_type": "code",
   "execution_count": 8,
   "metadata": {},
   "outputs": [
    {
     "name": "stdout",
     "output_type": "stream",
     "text": [
      "0        4.1\n",
      "1        3.9\n",
      "2        4.7\n",
      "3        4.5\n",
      "4        4.3\n",
      "        ... \n",
      "10836    4.5\n",
      "10837    5.0\n",
      "10838    NaN\n",
      "10839    4.5\n",
      "10840    4.5\n",
      "Name: Rating, Length: 9660, dtype: float64\n",
      "Wall time: 9.35 ms\n"
     ]
    },
    {
     "name": "stderr",
     "output_type": "stream",
     "text": [
      "C:\\Users\\shubh\\Anaconda3\\lib\\site-packages\\ipykernel_launcher.py:11: SettingWithCopyWarning: \n",
      "A value is trying to be set on a copy of a slice from a DataFrame.\n",
      "Try using .loc[row_indexer,col_indexer] = value instead\n",
      "\n",
      "See the caveats in the documentation: https://pandas.pydata.org/pandas-docs/stable/user_guide/indexing.html#returning-a-view-versus-a-copy\n",
      "  # This is added back by InteractiveShellApp.init_path()\n"
     ]
    },
    {
     "data": {
      "text/plain": [
       "0        4.1\n",
       "1        3.9\n",
       "2        4.7\n",
       "3        4.5\n",
       "4        4.3\n",
       "        ... \n",
       "10836    4.5\n",
       "10837    5.0\n",
       "10838    NaN\n",
       "10839    4.5\n",
       "10840    4.5\n",
       "Name: Rating, Length: 9660, dtype: float64"
      ]
     },
     "execution_count": 8,
     "metadata": {},
     "output_type": "execute_result"
    }
   ],
   "source": [
    "%%time\n",
    "#column 3 - Rating\n",
    "import math\n",
    "ratinglist = list(df[\"Rating\"])\n",
    "print(df[\"Rating\"])\n",
    "cleaned_rating_list = []\n",
    "for i in ratinglist:\n",
    "    if math.isnan(i):\n",
    "        cleaned_rating_list.append(i)\n",
    "    else:\n",
    "        cleaned_rating_list.append(float(i))\n",
    "df[\"Rating\"] = cleaned_rating_list\n",
    "df[\"Rating\"]"
   ]
  },
  {
   "cell_type": "code",
   "execution_count": 9,
   "metadata": {},
   "outputs": [
    {
     "name": "stdout",
     "output_type": "stream",
     "text": [
      "Wall time: 0 ns\n"
     ]
    }
   ],
   "source": [
    "%%time\n",
    "#Column 4\n",
    "#sorted df based on reviews\n",
    "#print(df.sort_values(\"Reviews\"))"
   ]
  },
  {
   "cell_type": "code",
   "execution_count": 10,
   "metadata": {},
   "outputs": [
    {
     "name": "stdout",
     "output_type": "stream",
     "text": [
      "0                        19\n",
      "1                        14\n",
      "2                       8.7\n",
      "3                        25\n",
      "4                       2.8\n",
      "                ...        \n",
      "10836                    53\n",
      "10837                   3.6\n",
      "10838                   9.5\n",
      "10839    Varies with device\n",
      "10840                    19\n",
      "Name: Size, Length: 9660, dtype: object\n",
      "Wall time: 22.9 ms\n"
     ]
    },
    {
     "name": "stderr",
     "output_type": "stream",
     "text": [
      "C:\\Users\\shubh\\Anaconda3\\lib\\site-packages\\ipykernel_launcher.py:15: SettingWithCopyWarning: \n",
      "A value is trying to be set on a copy of a slice from a DataFrame.\n",
      "Try using .loc[row_indexer,col_indexer] = value instead\n",
      "\n",
      "See the caveats in the documentation: https://pandas.pydata.org/pandas-docs/stable/user_guide/indexing.html#returning-a-view-versus-a-copy\n",
      "  from ipykernel import kernelapp as app\n"
     ]
    }
   ],
   "source": [
    "%%time\n",
    "#column 5 - size\n",
    "#to clean size column\n",
    "size_list = list(df[\"Size\"])\n",
    "cleaned_size = []\n",
    "for i in size_list:\n",
    "    if i == \"Varies with device\":\n",
    "        cleaned_size.append(i)\n",
    "    elif \"M\" in i:\n",
    "        cleaned_size.append(float(i.replace(\"M\",\"\")))\n",
    "    elif \"k\" in i:\n",
    "        cleaned_size.append((float(i.replace(\"k\",\"\")))/1024)\n",
    "    else:\n",
    "        cleaned_size.append(i)\n",
    "#print(cleaned_size)\n",
    "df[\"Size\"] = cleaned_size\n",
    "print(df[\"Size\"])"
   ]
  },
  {
   "cell_type": "code",
   "execution_count": 11,
   "metadata": {},
   "outputs": [
    {
     "name": "stdout",
     "output_type": "stream",
     "text": [
      "0           10000\n",
      "1          500000\n",
      "2         5000000\n",
      "3        50000000\n",
      "4          100000\n",
      "           ...   \n",
      "10836        5000\n",
      "10837         100\n",
      "10838        1000\n",
      "10839        1000\n",
      "10840    10000000\n",
      "Name: Downloads, Length: 9660, dtype: int64\n",
      "Wall time: 19.1 ms\n"
     ]
    },
    {
     "name": "stderr",
     "output_type": "stream",
     "text": [
      "C:\\Users\\shubh\\Anaconda3\\lib\\site-packages\\ipykernel_launcher.py:9: SettingWithCopyWarning: \n",
      "A value is trying to be set on a copy of a slice from a DataFrame.\n",
      "Try using .loc[row_indexer,col_indexer] = value instead\n",
      "\n",
      "See the caveats in the documentation: https://pandas.pydata.org/pandas-docs/stable/user_guide/indexing.html#returning-a-view-versus-a-copy\n",
      "  if __name__ == '__main__':\n"
     ]
    }
   ],
   "source": [
    "%%time\n",
    "#Column 6 Installs\n",
    "list_installs = list(df[\"Downloads\"])\n",
    "cleaned_list_installs = []\n",
    "for i in list_installs:\n",
    "    if i == \"Free\":\n",
    "        cleaned_list_installs.append(5000)\n",
    "    else:\n",
    "        cleaned_list_installs.append(int((i.replace(\"+\",\"\")).replace(\",\",\"\")))\n",
    "df[\"Downloads\"] = cleaned_list_installs\n",
    "print(df[\"Downloads\"])"
   ]
  },
  {
   "cell_type": "code",
   "execution_count": 12,
   "metadata": {},
   "outputs": [
    {
     "name": "stdout",
     "output_type": "stream",
     "text": [
      "0        Free\n",
      "1        Free\n",
      "2        Free\n",
      "3        Free\n",
      "4        Free\n",
      "         ... \n",
      "10836    Free\n",
      "10837    Free\n",
      "10838    Free\n",
      "10839    Free\n",
      "10840    Free\n",
      "Name: Type, Length: 9660, dtype: object\n",
      "Wall time: 7.89 ms\n"
     ]
    },
    {
     "name": "stderr",
     "output_type": "stream",
     "text": [
      "C:\\Users\\shubh\\Anaconda3\\lib\\site-packages\\ipykernel_launcher.py:9: SettingWithCopyWarning: \n",
      "A value is trying to be set on a copy of a slice from a DataFrame.\n",
      "Try using .loc[row_indexer,col_indexer] = value instead\n",
      "\n",
      "See the caveats in the documentation: https://pandas.pydata.org/pandas-docs/stable/user_guide/indexing.html#returning-a-view-versus-a-copy\n",
      "  if __name__ == '__main__':\n"
     ]
    }
   ],
   "source": [
    "%%time\n",
    "#column7 Type\n",
    "list_type = list(df[\"Type\"])\n",
    "cleaned_list_type = []\n",
    "for i in list_type:\n",
    "    if i ==0:\n",
    "        cleaned_list_type.append((str(i).replace(\"0\",\"Free\")))\n",
    "    else:\n",
    "        cleaned_list_type.append(i)\n",
    "df[\"Type\"] = cleaned_list_type\n",
    "print(df[\"Type\"])"
   ]
  },
  {
   "cell_type": "code",
   "execution_count": 13,
   "metadata": {},
   "outputs": [
    {
     "name": "stdout",
     "output_type": "stream",
     "text": [
      "Wall time: 7.96 ms\n"
     ]
    },
    {
     "name": "stderr",
     "output_type": "stream",
     "text": [
      "C:\\Users\\shubh\\Anaconda3\\lib\\site-packages\\ipykernel_launcher.py:6: SettingWithCopyWarning: \n",
      "A value is trying to be set on a copy of a slice from a DataFrame.\n",
      "Try using .loc[row_indexer,col_indexer] = value instead\n",
      "\n",
      "See the caveats in the documentation: https://pandas.pydata.org/pandas-docs/stable/user_guide/indexing.html#returning-a-view-versus-a-copy\n",
      "  \n"
     ]
    }
   ],
   "source": [
    "%%time\n",
    "#price\n",
    "list_p = list(df[\"Price\"])\n",
    "cleaned_list_p = []\n",
    "for i in list_p:\n",
    "        cleaned_list_p.append(i.replace(\"$\",\"\"))\n",
    "df[\"Price\"] = cleaned_list_p"
   ]
  },
  {
   "cell_type": "code",
   "execution_count": 14,
   "metadata": {},
   "outputs": [
    {
     "name": "stdout",
     "output_type": "stream",
     "text": [
      "Wall time: 12 ms\n"
     ]
    },
    {
     "name": "stderr",
     "output_type": "stream",
     "text": [
      "C:\\Users\\shubh\\Anaconda3\\lib\\site-packages\\ipykernel_launcher.py:12: SettingWithCopyWarning: \n",
      "A value is trying to be set on a copy of a slice from a DataFrame.\n",
      "Try using .loc[row_indexer,col_indexer] = value instead\n",
      "\n",
      "See the caveats in the documentation: https://pandas.pydata.org/pandas-docs/stable/user_guide/indexing.html#returning-a-view-versus-a-copy\n",
      "  if sys.path[0] == '':\n"
     ]
    },
    {
     "data": {
      "text/plain": [
       "0          Everyone\n",
       "1          Everyone\n",
       "2          Everyone\n",
       "3              Teen\n",
       "4          Everyone\n",
       "            ...    \n",
       "10836      Everyone\n",
       "10837      Everyone\n",
       "10838      Everyone\n",
       "10839    Mature 17+\n",
       "10840      Everyone\n",
       "Name: Content Rating, Length: 9660, dtype: object"
      ]
     },
     "execution_count": 14,
     "metadata": {},
     "output_type": "execute_result"
    }
   ],
   "source": [
    "%%time\n",
    "#content rating\n",
    "import math\n",
    "list_cr = list(df[\"Content Rating\"])\n",
    "cleaned_list_cr = []\n",
    "for i in list_cr:\n",
    "        if isinstance(i,float):\n",
    "            cleaned_list_cr.append(\"Unrated\")\n",
    "        elif len(i)==0:\n",
    "            cleaned_list_cr.append(\"Unrated\")\n",
    "        else:\n",
    "            cleaned_list_cr.append(i)\n",
    "df[\"Content Rating\"] = cleaned_list_cr\n",
    "df[\"Content Rating\"]"
   ]
  },
  {
   "cell_type": "code",
   "execution_count": 15,
   "metadata": {},
   "outputs": [
    {
     "name": "stdout",
     "output_type": "stream",
     "text": [
      "9660\n",
      "Wall time: 15 ms\n"
     ]
    },
    {
     "name": "stderr",
     "output_type": "stream",
     "text": [
      "C:\\Users\\shubh\\Anaconda3\\lib\\site-packages\\ipykernel_launcher.py:16: SettingWithCopyWarning: \n",
      "A value is trying to be set on a copy of a slice from a DataFrame.\n",
      "Try using .loc[row_indexer,col_indexer] = value instead\n",
      "\n",
      "See the caveats in the documentation: https://pandas.pydata.org/pandas-docs/stable/user_guide/indexing.html#returning-a-view-versus-a-copy\n",
      "  app.launch_new_instance()\n"
     ]
    },
    {
     "data": {
      "text/plain": [
       "0                     Art & Design\n",
       "1        Art & Design;Pretend Play\n",
       "2                     Art & Design\n",
       "3                     Art & Design\n",
       "4          Art & Design;Creativity\n",
       "                   ...            \n",
       "10836                    Education\n",
       "10837                    Education\n",
       "10838                      Medical\n",
       "10839            Books & Reference\n",
       "10840                    Lifestyle\n",
       "Name: Genres, Length: 9660, dtype: object"
      ]
     },
     "execution_count": 15,
     "metadata": {},
     "output_type": "execute_result"
    }
   ],
   "source": [
    "%%time\n",
    "#genres\n",
    "#content rating\n",
    "#could not cluster in python, will use open refine\n",
    "list_g = list(df[\"Genres\"])\n",
    "cleaned_list_g = []\n",
    "for i in list_g:\n",
    "        \n",
    "        if isinstance(i,float):\n",
    "            cleaned_list_g.append(\"Not Categorized\")\n",
    "            \n",
    "        elif len(i)==0:\n",
    "            cleaned_list_g.append(\"Not Categorized\")\n",
    "        else:\n",
    "            cleaned_list_g.append(i)\n",
    "print(len(cleaned_list_g))\n",
    "df[\"Genres\"] = cleaned_list_g\n",
    "df[\"Genres\"]"
   ]
  },
  {
   "cell_type": "code",
   "execution_count": 16,
   "metadata": {},
   "outputs": [
    {
     "name": "stdout",
     "output_type": "stream",
     "text": [
      "9660\n",
      "Wall time: 15.7 ms\n"
     ]
    },
    {
     "name": "stderr",
     "output_type": "stream",
     "text": [
      "C:\\Users\\shubh\\Anaconda3\\lib\\site-packages\\ipykernel_launcher.py:14: SettingWithCopyWarning: \n",
      "A value is trying to be set on a copy of a slice from a DataFrame.\n",
      "Try using .loc[row_indexer,col_indexer] = value instead\n",
      "\n",
      "See the caveats in the documentation: https://pandas.pydata.org/pandas-docs/stable/user_guide/indexing.html#returning-a-view-versus-a-copy\n",
      "  \n"
     ]
    },
    {
     "data": {
      "text/plain": [
       "0                     1.0.0\n",
       "1                     2.0.0\n",
       "2                     1.2.4\n",
       "3        Varies with device\n",
       "4                       1.1\n",
       "                ...        \n",
       "10836                  1.48\n",
       "10837                     1\n",
       "10838                     1\n",
       "10839    Varies with device\n",
       "10840    Varies with device\n",
       "Name: Current Version, Length: 9660, dtype: object"
      ]
     },
     "execution_count": 16,
     "metadata": {},
     "output_type": "execute_result"
    }
   ],
   "source": [
    "%%time\n",
    "#current version\n",
    "list_cv = list(df[\"Current Version\"])\n",
    "cleaned_list_cv = []\n",
    "for i in list_cv:\n",
    "        #check for NaN also -- todo\n",
    "        if isinstance(i,float):\n",
    "            cleaned_list_cv.append(\"Not Available\")\n",
    "            \n",
    "        elif len(i)==0:\n",
    "            cleaned_list_cv.append(\"Not Available\")\n",
    "        else:\n",
    "            cleaned_list_cv.append(i)\n",
    "print(len(cleaned_list_cv))\n",
    "df[\"Current Version\"] = cleaned_list_cv\n",
    "df[\"Current Version\"]"
   ]
  },
  {
   "cell_type": "code",
   "execution_count": 17,
   "metadata": {},
   "outputs": [
    {
     "name": "stdout",
     "output_type": "stream",
     "text": [
      "9660\n",
      "Wall time: 9.96 ms\n"
     ]
    },
    {
     "name": "stderr",
     "output_type": "stream",
     "text": [
      "C:\\Users\\shubh\\Anaconda3\\lib\\site-packages\\ipykernel_launcher.py:14: SettingWithCopyWarning: \n",
      "A value is trying to be set on a copy of a slice from a DataFrame.\n",
      "Try using .loc[row_indexer,col_indexer] = value instead\n",
      "\n",
      "See the caveats in the documentation: https://pandas.pydata.org/pandas-docs/stable/user_guide/indexing.html#returning-a-view-versus-a-copy\n",
      "  \n"
     ]
    },
    {
     "data": {
      "text/plain": [
       "0              4.0.3 and up\n",
       "1              4.0.3 and up\n",
       "2              4.0.3 and up\n",
       "3                4.2 and up\n",
       "4                4.4 and up\n",
       "                ...        \n",
       "10836            4.1 and up\n",
       "10837            4.1 and up\n",
       "10838            2.2 and up\n",
       "10839    Varies with device\n",
       "10840    Varies with device\n",
       "Name: Android Version, Length: 9660, dtype: object"
      ]
     },
     "execution_count": 17,
     "metadata": {},
     "output_type": "execute_result"
    }
   ],
   "source": [
    "%%time\n",
    "#android version\n",
    "list_av = list(df[\"Android Version\"])\n",
    "cleaned_list_av = []\n",
    "for i in list_av:\n",
    "        \n",
    "        if isinstance(i,float):\n",
    "            cleaned_list_av.append(\"Not Available\")\n",
    "            \n",
    "        elif len(i)==0:\n",
    "            cleaned_list_av.append(\"Not Available\")\n",
    "        else:\n",
    "            cleaned_list_av.append(i)\n",
    "print(len(cleaned_list_av))\n",
    "df[\"Android Version\"] = cleaned_list_av\n",
    "df[\"Android Version\"]"
   ]
  },
  {
   "cell_type": "code",
   "execution_count": 18,
   "metadata": {},
   "outputs": [
    {
     "name": "stdout",
     "output_type": "stream",
     "text": [
      "Wall time: 159 ms\n"
     ]
    }
   ],
   "source": [
    "%%time\n",
    "df.to_csv(\"C:/Users/shubh/clean.csv\")"
   ]
  }
 ],
 "metadata": {
  "kernelspec": {
   "display_name": "Python 3",
   "language": "python",
   "name": "python3"
  },
  "language_info": {
   "codemirror_mode": {
    "name": "ipython",
    "version": 3
   },
   "file_extension": ".py",
   "mimetype": "text/x-python",
   "name": "python",
   "nbconvert_exporter": "python",
   "pygments_lexer": "ipython3",
   "version": "3.7.4"
  }
 },
 "nbformat": 4,
 "nbformat_minor": 4
}
